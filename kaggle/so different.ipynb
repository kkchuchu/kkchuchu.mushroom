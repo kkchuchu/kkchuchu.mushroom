{
 "cells": [
  {
   "cell_type": "code",
   "execution_count": null,
   "metadata": {
    "_cell_guid": "b1076dfc-b9ad-4769-8c92-a6c4dae69d19",
    "_uuid": "8f2839f25d086af736a60e9eeb907d3b93b6e0e5",
    "collapsed": true
   },
   "outputs": [],
   "source": [
    "# This Python 3 environment comes with many helpful analytics libraries installed\n",
    "# It is defined by the kaggle/python docker image: https://github.com/kaggle/docker-python\n",
    "# For example, here's several helpful packages to load in \n",
    "\n",
    "import numpy as np # linear algebra\n",
    "import pandas as pd # data processing, CSV file I/O (e.g. pd.read_csv)\n",
    "import seaborn as sns\n",
    "import matplotlib.pyplot as plt\n",
    "%matplotlib inline\n",
    "sns.set_style(\"ticks\", {\"xtick.major.size\": 8, \"ytick.major.size\": 8})\n",
    "plt.style.use('ggplot') \n",
    "\n",
    "# Input data files are available in the \"../input/\" directory.\n",
    "# For example, running this (by clicking run or pressing Shift+Enter) will list the files in the input directory\n",
    "\n",
    "import os\n",
    "print(os.listdir(\"../input\"))\n",
    "\n",
    "# Any results you write to the current directory are saved as output."
   ]
  },
  {
   "cell_type": "code",
   "execution_count": null,
   "metadata": {
    "_cell_guid": "79c7e3d0-c299-4dcb-8224-4455121ee9b0",
    "_uuid": "d629ff2d2480ee46fbb7e2d37f6b5fab8052498a",
    "collapsed": true
   },
   "outputs": [],
   "source": [
    "items  = pd.read_csv('../input/items.csv')\n",
    "train = pd.read_csv('../input/sales_train.csv')\n",
    "test = pd.read_csv('../input/test.csv')\n",
    "item_category = pd.read_csv('../input/item_categories.csv')\n",
    "shops = pd.read_csv('../input/shops.csv')"
   ]
  },
  {
   "cell_type": "code",
   "execution_count": null,
   "metadata": {
    "_uuid": "4f57d07d84e08800a32845d04eec2c2408182e86",
    "collapsed": true
   },
   "outputs": [],
   "source": [
    "# -1 and 307980 looks like outliers, let's delete them\n",
    "print('before train shape:', train.shape)\n",
    "train = train[(train.item_price > 0) & (train.item_price < 300000)]\n",
    "print('after train shape:', train.shape)"
   ]
  },
  {
   "cell_type": "code",
   "execution_count": null,
   "metadata": {
    "_uuid": "10296ec66746cc1580c66c9e5e3b44cf6b7af73b",
    "collapsed": true
   },
   "outputs": [],
   "source": [
    "unresanable_data(train['item_price'])\n",
    "count_price = train.item_price.value_counts().sort_index(ascending=False)\n",
    "plt.subplot(221)\n",
    "count_price.hist(figsize=(20,6))\n",
    "plt.xlabel('Item Price', fontsize=20);\n",
    "plt.title('Original Distiribution')\n",
    "\n",
    "plt.subplot(222)\n",
    "train.item_price.map(np.log1p).hist(figsize=(20,6))\n",
    "plt.xlabel('Item Price');\n",
    "plt.title('log1p Transformation')\n",
    "train.loc[:,'item_price'] = train.item_price.map(np.log1p)"
   ]
  },
  {
   "cell_type": "code",
   "execution_count": null,
   "metadata": {
    "_uuid": "1e1b20bf59b14d90164d21b517c351b723ab2123",
    "collapsed": true
   },
   "outputs": [],
   "source": [
    "# unresanable_data(train['date_block_num'])\n",
    "count_price = train.date_block_num.value_counts().sort_index(ascending=False)\n",
    "plt.subplot(221)\n",
    "count_price.hist(figsize=(20,5))\n",
    "plt.xlabel('Date Block');\n",
    "plt.title('Original Distiribution')\n",
    "\n",
    "count_price = train.shop_id.value_counts().sort_index(ascending=False)\n",
    "plt.subplot(222)\n",
    "count_price.hist(figsize=(20,5))\n",
    "plt.xlabel('shop_id');\n",
    "plt.title('Original Distiribution')\n",
    "\n",
    "count_price = train.item_id.value_counts().sort_index(ascending=False)\n",
    "plt.subplot(223)\n",
    "count_price.hist(figsize=(20,5))\n",
    "plt.xlabel('item_id');\n",
    "plt.title('Original Distiribution')\n",
    "\n"
   ]
  },
  {
   "cell_type": "markdown",
   "metadata": {
    "_uuid": "ed92cffa71767399d62307b01b601d4814063965"
   },
   "source": [
    "# Map the Items"
   ]
  },
  {
   "cell_type": "code",
   "execution_count": null,
   "metadata": {
    "_uuid": "578e022a1905a09a06e241cee0e8899348781507",
    "collapsed": true
   },
   "outputs": [],
   "source": [
    "item_category.head()"
   ]
  },
  {
   "cell_type": "code",
   "execution_count": null,
   "metadata": {
    "_uuid": "8bfbf08d2cdde5c63fc6730d2848422f598a4fa8",
    "collapsed": true,
    "scrolled": true
   },
   "outputs": [],
   "source": [
    "items.merge(item_category[['item_category_id','cats']], how=\"inner\", on=\"item_category_id\")[['item_id','cats']].head()"
   ]
  },
  {
   "cell_type": "markdown",
   "metadata": {
    "_uuid": "4dc3f8197251eb7c412d96da91143156b18026eb"
   },
   "source": [
    "# Convert Date Column data type from object to Date "
   ]
  },
  {
   "cell_type": "code",
   "execution_count": null,
   "metadata": {
    "_uuid": "87dc48b01e0ed61310505f7ccc1917194d8c12f8",
    "collapsed": true
   },
   "outputs": [],
   "source": [
    "train['date'] = pd.to_datetime(train.date,format=\"%d.%m.%Y\")\n",
    "train.head()"
   ]
  },
  {
   "cell_type": "code",
   "execution_count": null,
   "metadata": {
    "_uuid": "881c099af362dec8f5cec5c231b0063066ec3789",
    "collapsed": true
   },
   "outputs": [],
   "source": [
    "## Pivot by monht to wide format\n",
    "p_df = train.pivot_table(index=['shop_id','item_id'], columns='date_block_num', values='item_cnt_day',aggfunc='sum').fillna(0.0)\n",
    "p_df.head()"
   ]
  },
  {
   "cell_type": "code",
   "execution_count": null,
   "metadata": {
    "_uuid": "28498ef7a1b7fec1bd2f65b58d6e34d3f83d20d5",
    "collapsed": true
   },
   "outputs": [],
   "source": [
    "## Join with categories\n",
    "train_cleaned_df = p_df.reset_index()\n",
    "train_cleaned_df['shop_id']= train_cleaned_df.shop_id.astype('str')\n",
    "train_cleaned_df['item_id']= train_cleaned_df.item_id.astype('str')\n",
    "\n",
    "item_to_cat_df = items.merge(item_category[['item_category_id','cats']], how=\"inner\", on=\"item_category_id\")[['item_id','cats']]\n",
    "item_to_cat_df[['item_id']] = item_to_cat_df.item_id.astype('str')\n",
    "\n",
    "train_cleaned_df = train_cleaned_df.merge(item_to_cat_df, how=\"inner\", on=\"item_id\")\n",
    "\n",
    "# Encode Categories\n",
    "from sklearn import preprocessing\n",
    "\n",
    "number = preprocessing.LabelEncoder()\n",
    "train_cleaned_df[['cats']] = number.fit_transform(train_cleaned_df.cats)\n",
    "train_cleaned_df = train_cleaned_df[['shop_id', 'item_id', 'cats'] + list(range(34))]\n",
    "train_cleaned_df.head()"
   ]
  },
  {
   "cell_type": "markdown",
   "metadata": {
    "_uuid": "d8c81f54ac91ce5b3c706871c48e1b79ec00e712"
   },
   "source": [
    "# Model Building"
   ]
  },
  {
   "cell_type": "code",
   "execution_count": null,
   "metadata": {
    "_uuid": "ea74d1434be4ddb5b1965f7f64a7fd92113aad37",
    "collapsed": true
   },
   "outputs": [],
   "source": [
    "import xgboost as xgb\n",
    "param = {'max_depth':10, \n",
    "         'subsample':1,\n",
    "         'min_child_weight':0.5,\n",
    "         'eta':0.3, \n",
    "         'num_round':1000, \n",
    "         'seed':1,\n",
    "         'silent':0,\n",
    "         'eval_metric':'rmse'}\n",
    "\n",
    "progress = dict()\n",
    "xgbtrain = xgb.DMatrix(train_cleaned_df.iloc[:,  (train_cleaned_df.columns != 33)].values, train_cleaned_df.iloc[:, train_cleaned_df.columns == 33].values)\n",
    "watchlist  = [(xgbtrain,'train-rmse')]\n",
    "\n",
    "bst = xgb.train(param, xgbtrain)\n",
    "preds = bst.predict(xgb.DMatrix(train_cleaned_df.iloc[:,  (train_cleaned_df.columns != 33)].values))\n",
    "from sklearn.metrics import mean_squared_error \n",
    "rmse = np.sqrt(mean_squared_error(preds,train_cleaned_df.iloc[:, train_cleaned_df.columns == 33].values))\n",
    "print(rmse)"
   ]
  },
  {
   "cell_type": "code",
   "execution_count": null,
   "metadata": {
    "_uuid": "54bff6c64d5fb8b72db59b7d5fa6fc9984bf86e0",
    "collapsed": true
   },
   "outputs": [],
   "source": [
    "xgb.plot_importance(bst)"
   ]
  },
  {
   "cell_type": "code",
   "execution_count": null,
   "metadata": {
    "_uuid": "ca502e613fc4a15fee2644a55c02b45e49b94d9c",
    "collapsed": true
   },
   "outputs": [],
   "source": [
    "apply_df = test\n",
    "apply_df['shop_id']= apply_df.shop_id.astype('str')\n",
    "apply_df['item_id']= apply_df.item_id.astype('str')\n",
    "\n",
    "apply_df = test.merge(train_cleaned_df, how = \"left\", on = [\"shop_id\", \"item_id\"]).fillna(0.0)\n",
    "apply_df.head()"
   ]
  },
  {
   "cell_type": "code",
   "execution_count": null,
   "metadata": {
    "_uuid": "ef2ded99146889cc8265472a764c9860193789fe",
    "collapsed": true
   },
   "outputs": [],
   "source": [
    "apply_df.head()"
   ]
  },
  {
   "cell_type": "code",
   "execution_count": null,
   "metadata": {
    "_uuid": "14e1b1ce857c28fd0f9336773db3426abafa3d09",
    "collapsed": true
   },
   "outputs": [],
   "source": [
    "preds = bst.predict(xgb.DMatrix(apply_df.iloc[:, (apply_df.columns != 'ID') & (apply_df.columns != 33)].values))"
   ]
  },
  {
   "cell_type": "code",
   "execution_count": null,
   "metadata": {
    "_uuid": "bfa1c02b3eeea140801cc4baefea30068ef3ca81",
    "collapsed": true
   },
   "outputs": [],
   "source": [
    "# Normalize prediction to [0-20]\n",
    "preds = list(map(lambda x: min(20,max(x,0)), list(preds)))\n",
    "sub_df = pd.DataFrame({'ID':apply_df.ID,'item_cnt_month': preds })\n",
    "sub_df.describe()"
   ]
  },
  {
   "cell_type": "code",
   "execution_count": null,
   "metadata": {
    "_uuid": "d22ca80b8e2585440b1091ef953817190cd186e1",
    "collapsed": true
   },
   "outputs": [],
   "source": [
    "sub_df.to_csv('Submission_Predict Sales.csv',index=False)"
   ]
  },
  {
   "cell_type": "code",
   "execution_count": null,
   "metadata": {
    "_uuid": "301ca0ce5f804e9ab27a25f2ad4deaa06b280a60",
    "collapsed": true
   },
   "outputs": [],
   "source": []
  }
 ],
 "metadata": {
  "kernelspec": {
   "display_name": "Python 3",
   "language": "python",
   "name": "python3"
  },
  "language_info": {
   "codemirror_mode": {
    "name": "ipython",
    "version": 3
   },
   "file_extension": ".py",
   "mimetype": "text/x-python",
   "name": "python",
   "nbconvert_exporter": "python",
   "pygments_lexer": "ipython3",
   "version": "3.6.4"
  }
 },
 "nbformat": 4,
 "nbformat_minor": 1
}
