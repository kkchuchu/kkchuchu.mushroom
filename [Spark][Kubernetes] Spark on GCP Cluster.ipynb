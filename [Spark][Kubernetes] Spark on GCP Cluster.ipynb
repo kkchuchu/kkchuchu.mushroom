{
 "cells": [
  {
   "cell_type": "markdown",
   "metadata": {},
   "source": [
    "##### Requirement\n",
    "\n",
    "- install gcloud \n",
    "- git clone https://github.com/kubernetes/kubernetes.git Example Code."
   ]
  },
  {
   "cell_type": "markdown",
   "metadata": {},
   "source": [
    "##### gcloud Env\n",
    "\n",
    "1. download https://dl.google.com/dl/cloudsdk/channels/rapid/downloads/google-cloud-sdk-138.0.0-darwin-x86_64.tar.gz\n",
    "2. gcloud init\n",
    "3. gcolud component install kubectl\n",
    "4. gcloud auth application-default login\n",
    "\n",
    "##### Reference\n",
    "\n",
    "- [google quickstart](https://cloud.google.com/sdk/docs/quickstart-mac-os-x)"
   ]
  },
  {
   "cell_type": "markdown",
   "metadata": {},
   "source": [
    "##### Go to Google Cloud Platform Container Engine"
   ]
  },
  {
   "cell_type": "markdown",
   "metadata": {},
   "source": [
    "##### Using kubectl Deploy Spark Cluster\n",
    "\n",
    "- [Beginning](https://blog.gcp.expert/kubernetes-spark-built/)\n",
    "- [Tutorial](https://github.com/kubernetes/kubernetes/tree/release-1.3/examples/spark)"
   ]
  },
  {
   "cell_type": "markdown",
   "metadata": {},
   "source": [
    "##### Kubernetes Tutorial\n",
    "\n",
    "- Pod：Kubernetes的最小單位，每個 Pod可以放置一個或多個容器\n",
    "- Replication controller：管理 Pod 的控制器，讓指定數量的Pod 能同時順利執行\n",
    "- Service：對外的窗口，其實就是一個負載平衡器，將外部流量導向至 Pod"
   ]
  },
  {
   "cell_type": "markdown",
   "metadata": {},
   "source": [
    "##### Kubernetes Clusters"
   ]
  },
  {
   "cell_type": "markdown",
   "metadata": {},
   "source": [
    "![clusters](./images/module_01_cluster.svg)"
   ]
  },
  {
   "cell_type": "markdown",
   "metadata": {},
   "source": [
    "- The Master coordinates the cluster\n",
    "- Nodes are the workers that run applications\n",
    "\n",
    "The Master is responsible for managing the cluster.\n",
    "\n",
    "A node is a VM or a physical computer that serves as a worker machine in a Kubernetes cluster. \n",
    "\n",
    "The nodes communicate with the master using the Kubernetes API, which the master exposes. End users can also use the Kubernetes API directly to interact with the cluster.\n"
   ]
  },
  {
   "cell_type": "markdown",
   "metadata": {},
   "source": [
    "##### Kubectl\n",
    "\n",
    "Kubectl uses the Kubernetes API to interact with the cluster. \n",
    "\n",
    "You'll need to specify the container image for your application and the number of replicas that you want to run.\n",
    "\n",
    "- kubectl get - list resources\n",
    "- kubectl describe - show detailed information about a resource\n",
    "- kubectl logs - print the logs from a container in a pod\n",
    "- kubectl exec - execute a command on a container in a pod"
   ]
  },
  {
   "cell_type": "markdown",
   "metadata": {
    "collapsed": true
   },
   "source": [
    "##### Node Overview\n",
    "![node overview](http://kubernetes.io/docs/tutorials/kubernetes-basics/public/images/module_03_nodes.svg)"
   ]
  },
  {
   "cell_type": "markdown",
   "metadata": {},
   "source": [
    "##### Reference\n",
    "- [google kubernetes basic modules](http://kubernetes.io/docs/tutorials/kubernetes-basics/)"
   ]
  }
 ],
 "metadata": {
  "kernelspec": {
   "display_name": "Python 3",
   "language": "python",
   "name": "python3"
  },
  "language_info": {
   "codemirror_mode": {
    "name": "ipython",
    "version": 3
   },
   "file_extension": ".py",
   "mimetype": "text/x-python",
   "name": "python",
   "nbconvert_exporter": "python",
   "pygments_lexer": "ipython3",
   "version": "3.5.2"
  }
 },
 "nbformat": 4,
 "nbformat_minor": 1
}
