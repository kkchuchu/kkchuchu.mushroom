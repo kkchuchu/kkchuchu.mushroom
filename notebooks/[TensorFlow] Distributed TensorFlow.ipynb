{
 "cells": [
  {
   "cell_type": "markdown",
   "metadata": {},
   "source": [
    "### Notation\n",
    "* * *\n",
    "\n",
    "$tasks \\subset jobs \\subset cluster$\n",
    "\n",
    "Each task should belong to one server, which contains a master."
   ]
  },
  {
   "cell_type": "code",
   "execution_count": 2,
   "metadata": {
    "collapsed": true
   },
   "outputs": [],
   "source": [
    "### dependencies\n",
    "\n",
    "import tensorflow as tf"
   ]
  },
  {
   "cell_type": "code",
   "execution_count": 3,
   "metadata": {
    "collapsed": true
   },
   "outputs": [],
   "source": [
    "### describe all tasks in the cluster\n",
    "cluster = tf.train.ClusterSpec({\"local\": [\"localhost:2222\", \"localhost:2223\"]})"
   ]
  },
  {
   "cell_type": "code",
   "execution_count": 4,
   "metadata": {
    "collapsed": false
   },
   "outputs": [
    {
     "data": {
      "text/plain": [
       "'\\ncontains:\\n    1. a set of local devices, \\r\\n    2. a set of connections to other tasks in its tf.train.ClusterSpec, \\n    3. a \"session target\" that can use these to perform a distributed computation.\\n'"
      ]
     },
     "execution_count": 4,
     "metadata": {},
     "output_type": "execute_result"
    }
   ],
   "source": [
    "tf.train.Server\n",
    "\"\"\"\n",
    "contains:\n",
    "    1. a set of local devices,\n",
    "    2. a set of connections to other tasks in its tf.train.ClusterSpec, \n",
    "    3. a \"session target\" that can use these to perform a distributed computation.\n",
    "\"\"\""
   ]
  },
  {
   "cell_type": "code",
   "execution_count": null,
   "metadata": {
    "collapsed": true
   },
   "outputs": [],
   "source": [
    "\"\"\"\n",
    "For instance,\n",
    "\"\"\"\n",
    "# In task 0:\n",
    "cluster = tf.train.ClusterSpec({\"local\": [\"localhost:2222\", \"localhost:2223\"]})\n",
    "server = tf.train.Server(cluster, job_name=\"local\", task_index=0)\n",
    "# In task 1:\n",
    "cluster = tf.train.ClusterSpec({\"local\": [\"localhost:2222\", \"localhost:2223\"]})\n",
    "server = tf.train.Server(cluster, job_name=\"local\", task_index=1)"
   ]
  }
 ],
 "metadata": {
  "kernelspec": {
   "display_name": "Python 3",
   "language": "python",
   "name": "python3"
  },
  "language_info": {
   "codemirror_mode": {
    "name": "ipython",
    "version": 3
   },
   "file_extension": ".py",
   "mimetype": "text/x-python",
   "name": "python",
   "nbconvert_exporter": "python",
   "pygments_lexer": "ipython3",
   "version": "3.5.2"
  }
 },
 "nbformat": 4,
 "nbformat_minor": 1
}
