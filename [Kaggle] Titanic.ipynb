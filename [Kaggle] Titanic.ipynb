{
 "cells": [
  {
   "cell_type": "code",
   "execution_count": 1,
   "metadata": {
    "collapsed": true
   },
   "outputs": [],
   "source": [
    "import os\n",
    "import sys\n",
    "sys.path.append('/usr/spark-2.1.1/python') # spark path\n",
    "import pyspark\n",
    "from pyspark.sql import Row, DataFrameReader\n",
    "from pyspark.sql import SparkSession\n",
    "from pyspark.sql.types import DoubleType, IntegerType\n",
    "from pyspark.sql.functions import *"
   ]
  },
  {
   "cell_type": "code",
   "execution_count": 2,
   "metadata": {
    "collapsed": true
   },
   "outputs": [],
   "source": [
    "conf = pyspark.SparkConf()\n",
    "\n",
    "conf.setMaster(\"spark://master:7077\")\n",
    "conf.setAppName(\"Titanic\")\n",
    "\n",
    "sc = pyspark.SparkContext(conf=conf)\n",
    "TRAIN_DATA_PATH = '/root/workspace/kkchuchu.mushroom/data/titanic/train.csv'\n",
    "TEST_DATA_PATH = '/root/workspace/kkchuchu.mushroom/data/titanic/test.csv'"
   ]
  },
  {
   "cell_type": "code",
   "execution_count": 3,
   "metadata": {
    "collapsed": true
   },
   "outputs": [],
   "source": [
    "spark = SparkSession(sc)"
   ]
  },
  {
   "cell_type": "code",
   "execution_count": 90,
   "metadata": {
    "collapsed": true
   },
   "outputs": [],
   "source": [
    "# read data\n",
    "# the resource should be accessible from all workers as well.\n",
    "passengers = spark.read.csv(TRAIN_DATA_PATH, header=True)"
   ]
  },
  {
   "cell_type": "markdown",
   "metadata": {},
   "source": [
    "|Variable Name | Description|\n",
    "|-------------|-------------|\n",
    "|Survived|Survived (1) or died (0)|\n",
    "|Pclass|\tPassenger’s class|\n",
    "|Name|\tPassenger’s name|\n",
    "|Sex|\tPassenger’s sex|\n",
    "|Age|\tPassenger’s age|\n",
    "|SibSp|\tNumber of siblings/spouses aboard|\n",
    "|Parch|\tNumber of parents/children aboard|\n",
    "|Ticket|\tTicket number|\n",
    "|Fare|\tFare|\n",
    "|Cabin|\tCabin|\n",
    "|Embarked|\tPort of embarkation|\n",
    "\n",
    "### Feature Details\n",
    "\n",
    "- Pclass is the Ticket-class: first (1), second (2), and third (3) class tickets were used. This is an ordinal integer feature.\n",
    "- Name is the name of the passenger. The names also contain titles and some persons might share the same surname; indicating family relations. We know that some titles can indicate a certain age group. For instance Master is a boy while Mr is a man. This feature is a character string of variable length but similar format.\n",
    "- Sex is an indicator whether the passenger was female or male. This is a categorical text string feature.\n",
    "- Age is the integer age of the passenger. There are NaN values in this column.\n",
    "- SibSp is another ordinal integer feature describing the number of siblings or spouses travelling with each passenger.\n",
    "- Parch is another ordinal integer features that gives the number of parents or children travelling with each passenger.\n",
    "- Ticket is a character string of variable length that gives the ticket number.\n",
    "- Fare is a float feature showing how much each passenger paid for their rather memorable journey.\n",
    "- Cabin gives the cabin number of each passenger. There are NaN in this column. This is another string feature.\n",
    "Embarked shows the port of embarkation as a categorical character value."
   ]
  },
  {
   "cell_type": "code",
   "execution_count": 8,
   "metadata": {
    "scrolled": false
   },
   "outputs": [],
   "source": [
    "passengers = passengers.withColumn('age', passengers['Age'].cast(DoubleType()))\n",
    "passengers = passengers.withColumn('sibsp', passengers['SibSp'].cast(DoubleType()))\n",
    "passengers = passengers.withColumn('parch', passengers['Parch'].cast(DoubleType()))\n",
    "passengers = passengers.withColumn('fare', passengers['Fare'].cast(DoubleType()))"
   ]
  },
  {
   "cell_type": "code",
   "execution_count": 9,
   "metadata": {
    "scrolled": true
   },
   "outputs": [
    {
     "name": "stdout",
     "output_type": "stream",
     "text": [
      "+-------+------------------+------------------+-------------------+-----------------+\n",
      "|summary|               age|             sibsp|              parch|             fare|\n",
      "+-------+------------------+------------------+-------------------+-----------------+\n",
      "|  count|               714|               891|                891|              891|\n",
      "|   mean| 29.69911764705882|0.5230078563411896|0.38159371492704824| 32.2042079685746|\n",
      "| stddev|14.526497332334035|1.1027434322934315| 0.8060572211299488|49.69342859718089|\n",
      "|    min|              0.42|               0.0|                0.0|              0.0|\n",
      "|    max|              80.0|               8.0|                6.0|         512.3292|\n",
      "+-------+------------------+------------------+-------------------+-----------------+\n",
      "\n"
     ]
    }
   ],
   "source": [
    "passengers.describe(['age', 'sibsp', 'parch', 'fare']).show()"
   ]
  },
  {
   "cell_type": "code",
   "execution_count": 10,
   "metadata": {
    "collapsed": true
   },
   "outputs": [],
   "source": [
    "# Fill Embarked Null \n",
    "passengers = passengers.withColumn(\"Embarked\",\n",
    "                                   when(passengers.PassengerId.isin('62'), \"C\")\n",
    "                                   .otherwise(passengers.Embarked))\n",
    "\n",
    "passengers = passengers.withColumn(\"Embarked\",\n",
    "                                   when(passengers.PassengerId.isin('830'), \"C\")\n",
    "                                   .otherwise(passengers.Embarked))"
   ]
  },
  {
   "cell_type": "code",
   "execution_count": 11,
   "metadata": {
    "collapsed": true
   },
   "outputs": [],
   "source": [
    "passengers = passengers.withColumn(\"sex\",\n",
    "                                   when(passengers.Sex.isin('male'), \"1\")\n",
    "                                   .otherwise('0'))"
   ]
  },
  {
   "cell_type": "code",
   "execution_count": 75,
   "metadata": {
    "collapsed": true,
    "scrolled": true
   },
   "outputs": [],
   "source": [
    "# extract Cabin first char as deck\n",
    "passengers = passengers.withColumn(\"deck\", \n",
    "                                   when(passengers.Cabin.isNull(), \"null\")\n",
    "                                   .otherwise(passengers.Cabin.substr(0, 2)))"
   ]
  },
  {
   "cell_type": "code",
   "execution_count": null,
   "metadata": {
    "collapsed": true
   },
   "outputs": [],
   "source": [
    "# mice imputation\n",
    "# 多重插值法"
   ]
  },
  {
   "cell_type": "code",
   "execution_count": 45,
   "metadata": {
    "scrolled": false
   },
   "outputs": [
    {
     "name": "stdout",
     "output_type": "stream",
     "text": [
      "root\n",
      " |-- PassengerId: string (nullable = true)\n",
      " |-- Survived: string (nullable = true)\n",
      " |-- Pclass: string (nullable = true)\n",
      " |-- Name: string (nullable = true)\n",
      " |-- sex: string (nullable = false)\n",
      " |-- age: double (nullable = true)\n",
      " |-- sibsp: double (nullable = true)\n",
      " |-- parch: double (nullable = true)\n",
      " |-- Ticket: string (nullable = true)\n",
      " |-- fare: double (nullable = true)\n",
      " |-- Cabin: string (nullable = true)\n",
      " |-- Embarked: string (nullable = true)\n",
      "\n"
     ]
    }
   ],
   "source": [
    "passengers.printSchema()"
   ]
  },
  {
   "cell_type": "code",
   "execution_count": 91,
   "metadata": {
    "scrolled": false
   },
   "outputs": [
    {
     "name": "stdout",
     "output_type": "stream",
     "text": [
      "+-----------+--------+------+--------------------+------+----+-----+-----+----------------+-------+-----+--------+\n",
      "|PassengerId|Survived|Pclass|                Name|   Sex| Age|SibSp|Parch|          Ticket|   Fare|Cabin|Embarked|\n",
      "+-----------+--------+------+--------------------+------+----+-----+-----+----------------+-------+-----+--------+\n",
      "|          1|       0|     3|Braund, Mr. Owen ...|  male|  22|    1|    0|       A/5 21171|   7.25| null|       S|\n",
      "|          2|       1|     1|Cumings, Mrs. Joh...|female|  38|    1|    0|        PC 17599|71.2833|  C85|       C|\n",
      "|          3|       1|     3|Heikkinen, Miss. ...|female|  26|    0|    0|STON/O2. 3101282|  7.925| null|       S|\n",
      "|          4|       1|     1|Futrelle, Mrs. Ja...|female|  35|    1|    0|          113803|   53.1| C123|       S|\n",
      "|          5|       0|     3|Allen, Mr. Willia...|  male|  35|    0|    0|          373450|   8.05| null|       S|\n",
      "|          6|       0|     3|    Moran, Mr. James|  male|null|    0|    0|          330877| 8.4583| null|       Q|\n",
      "|          7|       0|     1|McCarthy, Mr. Tim...|  male|  54|    0|    0|           17463|51.8625|  E46|       S|\n",
      "|          8|       0|     3|Palsson, Master. ...|  male|   2|    3|    1|          349909| 21.075| null|       S|\n",
      "|          9|       1|     3|Johnson, Mrs. Osc...|female|  27|    0|    2|          347742|11.1333| null|       S|\n",
      "|         10|       1|     2|Nasser, Mrs. Nich...|female|  14|    1|    0|          237736|30.0708| null|       C|\n",
      "|         11|       1|     3|Sandstrom, Miss. ...|female|   4|    1|    1|         PP 9549|   16.7|   G6|       S|\n",
      "|         12|       1|     1|Bonnell, Miss. El...|female|  58|    0|    0|          113783|  26.55| C103|       S|\n",
      "|         13|       0|     3|Saundercock, Mr. ...|  male|  20|    0|    0|       A/5. 2151|   8.05| null|       S|\n",
      "|         14|       0|     3|Andersson, Mr. An...|  male|  39|    1|    5|          347082| 31.275| null|       S|\n",
      "|         15|       0|     3|Vestrom, Miss. Hu...|female|  14|    0|    0|          350406| 7.8542| null|       S|\n",
      "|         16|       1|     2|Hewlett, Mrs. (Ma...|female|  55|    0|    0|          248706|     16| null|       S|\n",
      "|         17|       0|     3|Rice, Master. Eugene|  male|   2|    4|    1|          382652| 29.125| null|       Q|\n",
      "|         18|       1|     2|Williams, Mr. Cha...|  male|null|    0|    0|          244373|     13| null|       S|\n",
      "|         19|       0|     3|Vander Planke, Mr...|female|  31|    1|    0|          345763|     18| null|       S|\n",
      "|         20|       1|     3|Masselmani, Mrs. ...|female|null|    0|    0|            2649|  7.225| null|       C|\n",
      "+-----------+--------+------+--------------------+------+----+-----+-----+----------------+-------+-----+--------+\n",
      "only showing top 20 rows\n",
      "\n"
     ]
    }
   ],
   "source": [
    "passengers.show()"
   ]
  },
  {
   "cell_type": "code",
   "execution_count": 89,
   "metadata": {
    "scrolled": false
   },
   "outputs": [
    {
     "name": "stdout",
     "output_type": "stream",
     "text": [
      "+--------------------+\n",
      "|                Name|\n",
      "+--------------------+\n",
      "|Heikkinen, Miss. ...|\n",
      "|Sandstrom, Miss. ...|\n",
      "|Bonnell, Miss. El...|\n",
      "|Vestrom, Miss. Hu...|\n",
      "|\"McGowan, Miss. A...|\n",
      "|Palsson, Miss. To...|\n",
      "|\"O'Dwyer, Miss. E...|\n",
      "|Glynn, Miss. Mary...|\n",
      "|Vander Planke, Mi...|\n",
      "|Nicola-Yarred, Mi...|\n",
      "|Laroche, Miss. Si...|\n",
      "|Devaney, Miss. Ma...|\n",
      "|O'Driscoll, Miss....|\n",
      "|   Rugg, Miss. Emily|\n",
      "|West, Miss. Const...|\n",
      "| Icard, Miss. Amelie|\n",
      "|Andersson, Miss. ...|\n",
      "|Goodwin, Miss. Li...|\n",
      "|Dowdell, Miss. El...|\n",
      "|McDermott, Miss. ...|\n",
      "+--------------------+\n",
      "only showing top 20 rows\n",
      "\n"
     ]
    }
   ],
   "source": [
    "passengers.select(passengers.Name).filter(passengers.Name.like('%Miss%')).show()"
   ]
  },
  {
   "cell_type": "code",
   "execution_count": 51,
   "metadata": {},
   "outputs": [],
   "source": [
    "# extract Cabin first char as deck\n",
    "passengers = passengers.withColumn(\"embarked\", \n",
    "                                   when(passengers.Embarked.isin(\"Q\"), 0)\n",
    "                                   .when(passengers.Embarked.isin(\"C\"), 1)\n",
    "                                   .when(passengers.Embarked.isin(\"S\"), 2))"
   ]
  },
  {
   "cell_type": "code",
   "execution_count": 77,
   "metadata": {},
   "outputs": [],
   "source": [
    "# full$Mother <- 'Not Mother'\n",
    "# full$Mother[full$Sex == 'female' & full$Parch > 0 & full$Age > 18 & full$Title != 'Miss'] <- 'Mother'\n",
    "passengers = passengers.withColumn(\"mother\", \n",
    "                                   when( ( (passengers.sex == 0) & \n",
    "                                           (passengers.age > 18) & \n",
    "                                           (passengers.Name.like('%Miss%') ) ), 1)\n",
    "                                   .otherwise(0))"
   ]
  },
  {
   "cell_type": "code",
   "execution_count": 78,
   "metadata": {},
   "outputs": [
    {
     "data": {
      "text/plain": [
       "[Row(PassengerId='62', Embarked='C'), Row(PassengerId='830', Embarked='C')]"
      ]
     },
     "execution_count": 78,
     "metadata": {},
     "output_type": "execute_result"
    }
   ],
   "source": [
    "passengers.select(passengers.PassengerId, passengers.Embarked).filter((passengers.PassengerId == '830') | (passengers.PassengerId == '62')).collect()"
   ]
  },
  {
   "cell_type": "code",
   "execution_count": 83,
   "metadata": {
    "collapsed": true
   },
   "outputs": [],
   "source": [
    "lab = passengers\n",
    "lab = lab.drop('Name')\n",
    "lab = lab.drop('Ticket')\n",
    "lab = lab.drop('Cabin')"
   ]
  },
  {
   "cell_type": "code",
   "execution_count": 20,
   "metadata": {
    "collapsed": true
   },
   "outputs": [],
   "source": [
    "from pyspark.mllib.tree import RandomForest, RandomForestModel\n",
    "from pyspark.mllib.util import MLUtils\n",
    "from pyspark.mllib.regression import LabeledPoint"
   ]
  },
  {
   "cell_type": "code",
   "execution_count": 84,
   "metadata": {},
   "outputs": [],
   "source": [
    "def parse(l):\n",
    "    target = l.Survived\n",
    "    features = [l.sex, l.Pclass, l.sibsp, l.parch, l.fare, l.embarked, l.mother]\n",
    "    return LabeledPoint(target, features)\n",
    "\n",
    "lab = lab.rdd.map(lambda x: parse(x))"
   ]
  },
  {
   "cell_type": "code",
   "execution_count": 85,
   "metadata": {},
   "outputs": [
    {
     "data": {
      "text/plain": [
       "[LabeledPoint(0.0, [1.0,3.0,1.0,0.0,7.25,2.0,0.0]),\n",
       " LabeledPoint(1.0, [0.0,1.0,1.0,0.0,71.2833,1.0,0.0]),\n",
       " LabeledPoint(1.0, [0.0,3.0,0.0,0.0,7.925,2.0,1.0]),\n",
       " LabeledPoint(1.0, [0.0,1.0,1.0,0.0,53.1,2.0,0.0]),\n",
       " LabeledPoint(0.0, [1.0,3.0,0.0,0.0,8.05,2.0,0.0]),\n",
       " LabeledPoint(0.0, [1.0,3.0,0.0,0.0,8.4583,0.0,0.0]),\n",
       " LabeledPoint(0.0, [1.0,1.0,0.0,0.0,51.8625,2.0,0.0]),\n",
       " LabeledPoint(0.0, [1.0,3.0,3.0,1.0,21.075,2.0,0.0]),\n",
       " LabeledPoint(1.0, [0.0,3.0,0.0,2.0,11.1333,2.0,0.0]),\n",
       " LabeledPoint(1.0, [0.0,2.0,1.0,0.0,30.0708,1.0,0.0])]"
      ]
     },
     "execution_count": 85,
     "metadata": {},
     "output_type": "execute_result"
    }
   ],
   "source": [
    "lab.take(num=10)"
   ]
  },
  {
   "cell_type": "code",
   "execution_count": 86,
   "metadata": {
    "collapsed": true
   },
   "outputs": [],
   "source": [
    "# Split the data into training and test sets (30% held out for testing)\n",
    "(trainingData, testData) = lab.randomSplit([0.7, 0.3])"
   ]
  },
  {
   "cell_type": "code",
   "execution_count": 87,
   "metadata": {},
   "outputs": [],
   "source": [
    "model = RandomForest.trainClassifier(trainingData, numClasses=2, categoricalFeaturesInfo={0:2, 1:4, 5:3, 6:2},\n",
    "                                     numTrees=10, featureSubsetStrategy=\"auto\",\n",
    "                                     impurity='gini', maxDepth=4, maxBins=32)"
   ]
  },
  {
   "cell_type": "code",
   "execution_count": 88,
   "metadata": {},
   "outputs": [
    {
     "name": "stdout",
     "output_type": "stream",
     "text": [
      "Test Error = 0.20588235294117646\n",
      "Learned classification forest model:\n",
      "TreeEnsembleModel classifier with 10 trees\n",
      "\n",
      "  Tree 0:\n",
      "    If (feature 4 <= 10.1708)\n",
      "     If (feature 4 <= 7.5208)\n",
      "      If (feature 0 in {0.0})\n",
      "       If (feature 4 <= 7.0458)\n",
      "        Predict: 0.0\n",
      "       Else (feature 4 > 7.0458)\n",
      "        Predict: 1.0\n",
      "      Else (feature 0 not in {0.0})\n",
      "       If (feature 5 in {0.0,2.0})\n",
      "        Predict: 0.0\n",
      "       Else (feature 5 not in {0.0,2.0})\n",
      "        Predict: 0.0\n",
      "     Else (feature 4 > 7.5208)\n",
      "      If (feature 3 <= 1.0)\n",
      "       If (feature 0 in {0.0})\n",
      "        Predict: 1.0\n",
      "       Else (feature 0 not in {0.0})\n",
      "        Predict: 0.0\n",
      "      Else (feature 3 > 1.0)\n",
      "       Predict: 1.0\n",
      "    Else (feature 4 > 10.1708)\n",
      "     If (feature 6 in {1.0})\n",
      "      If (feature 2 <= 1.0)\n",
      "       If (feature 1 in {3.0})\n",
      "        Predict: 0.0\n",
      "       Else (feature 1 not in {3.0})\n",
      "        Predict: 1.0\n",
      "      Else (feature 2 > 1.0)\n",
      "       Predict: 0.0\n",
      "     Else (feature 6 not in {1.0})\n",
      "      If (feature 4 <= 52.5542)\n",
      "       If (feature 0 in {1.0})\n",
      "        Predict: 0.0\n",
      "       Else (feature 0 not in {1.0})\n",
      "        Predict: 1.0\n",
      "      Else (feature 4 > 52.5542)\n",
      "       If (feature 2 <= 1.0)\n",
      "        Predict: 1.0\n",
      "       Else (feature 2 > 1.0)\n",
      "        Predict: 0.0\n",
      "  Tree 1:\n",
      "    If (feature 2 <= 0.0)\n",
      "     If (feature 1 in {2.0,1.0})\n",
      "      If (feature 6 in {1.0})\n",
      "       If (feature 4 <= 30.0708)\n",
      "        Predict: 1.0\n",
      "       Else (feature 4 > 30.0708)\n",
      "        Predict: 1.0\n",
      "      Else (feature 6 not in {1.0})\n",
      "       If (feature 5 in {0.0,1.0})\n",
      "        Predict: 0.0\n",
      "       Else (feature 5 not in {0.0,1.0})\n",
      "        Predict: 0.0\n",
      "     Else (feature 1 not in {2.0,1.0})\n",
      "      If (feature 0 in {1.0})\n",
      "       If (feature 4 <= 19.2583)\n",
      "        Predict: 0.0\n",
      "       Else (feature 4 > 19.2583)\n",
      "        Predict: 1.0\n",
      "      Else (feature 0 not in {1.0})\n",
      "       If (feature 6 in {1.0})\n",
      "        Predict: 1.0\n",
      "       Else (feature 6 not in {1.0})\n",
      "        Predict: 1.0\n",
      "    Else (feature 2 > 0.0)\n",
      "     If (feature 0 in {1.0})\n",
      "      If (feature 2 <= 1.0)\n",
      "       Predict: 0.0\n",
      "      Else (feature 2 > 1.0)\n",
      "       If (feature 3 <= 1.0)\n",
      "        Predict: 0.0\n",
      "       Else (feature 3 > 1.0)\n",
      "        Predict: 0.0\n",
      "     Else (feature 0 not in {1.0})\n",
      "      If (feature 5 in {0.0,1.0})\n",
      "       If (feature 1 in {2.0,3.0})\n",
      "        Predict: 1.0\n",
      "       Else (feature 1 not in {2.0,3.0})\n",
      "        Predict: 1.0\n",
      "      Else (feature 5 not in {0.0,1.0})\n",
      "       If (feature 3 <= 1.0)\n",
      "        Predict: 1.0\n",
      "       Else (feature 3 > 1.0)\n",
      "        Predict: 0.0\n",
      "  Tree 2:\n",
      "    If (feature 6 in {1.0})\n",
      "     If (feature 1 in {3.0})\n",
      "      If (feature 3 <= 0.0)\n",
      "       If (feature 2 <= 0.0)\n",
      "        Predict: 0.0\n",
      "       Else (feature 2 > 0.0)\n",
      "        Predict: 0.0\n",
      "      Else (feature 3 > 0.0)\n",
      "       Predict: 0.0\n",
      "     Else (feature 1 not in {3.0})\n",
      "      If (feature 2 <= 0.0)\n",
      "       Predict: 1.0\n",
      "      Else (feature 2 > 0.0)\n",
      "       Predict: 1.0\n",
      "    Else (feature 6 not in {1.0})\n",
      "     If (feature 0 in {1.0})\n",
      "      If (feature 4 <= 25.5875)\n",
      "       If (feature 3 <= 0.0)\n",
      "        Predict: 0.0\n",
      "       Else (feature 3 > 0.0)\n",
      "        Predict: 0.0\n",
      "      Else (feature 4 > 25.5875)\n",
      "       If (feature 1 in {3.0,2.0})\n",
      "        Predict: 0.0\n",
      "       Else (feature 1 not in {3.0,2.0})\n",
      "        Predict: 0.0\n",
      "     Else (feature 0 not in {1.0})\n",
      "      If (feature 3 <= 1.0)\n",
      "       If (feature 1 in {2.0,3.0})\n",
      "        Predict: 1.0\n",
      "       Else (feature 1 not in {2.0,3.0})\n",
      "        Predict: 1.0\n",
      "      Else (feature 3 > 1.0)\n",
      "       If (feature 4 <= 27.75)\n",
      "        Predict: 1.0\n",
      "       Else (feature 4 > 27.75)\n",
      "        Predict: 0.0\n",
      "  Tree 3:\n",
      "    If (feature 0 in {1.0})\n",
      "     If (feature 5 in {0.0})\n",
      "      Predict: 0.0\n",
      "     Else (feature 5 not in {0.0})\n",
      "      If (feature 4 <= 7.925)\n",
      "       If (feature 1 in {1.0,2.0})\n",
      "        Predict: 0.0\n",
      "       Else (feature 1 not in {1.0,2.0})\n",
      "        Predict: 0.0\n",
      "      Else (feature 4 > 7.925)\n",
      "       If (feature 2 <= 1.0)\n",
      "        Predict: 0.0\n",
      "       Else (feature 2 > 1.0)\n",
      "        Predict: 0.0\n",
      "    Else (feature 0 not in {1.0})\n",
      "     If (feature 2 <= 2.0)\n",
      "      If (feature 1 in {3.0})\n",
      "       If (feature 3 <= 3.0)\n",
      "        Predict: 1.0\n",
      "       Else (feature 3 > 3.0)\n",
      "        Predict: 0.0\n",
      "      Else (feature 1 not in {3.0})\n",
      "       If (feature 4 <= 146.5208)\n",
      "        Predict: 1.0\n",
      "       Else (feature 4 > 146.5208)\n",
      "        Predict: 1.0\n",
      "     Else (feature 2 > 2.0)\n",
      "      If (feature 3 <= 0.0)\n",
      "       Predict: 1.0\n",
      "      Else (feature 3 > 0.0)\n",
      "       Predict: 0.0\n",
      "  Tree 4:\n",
      "    If (feature 4 <= 14.5)\n",
      "     If (feature 3 <= 0.0)\n",
      "      If (feature 0 in {1.0})\n",
      "       If (feature 2 <= 0.0)\n",
      "        Predict: 0.0\n",
      "       Else (feature 2 > 0.0)\n",
      "        Predict: 0.0\n",
      "      Else (feature 0 not in {1.0})\n",
      "       If (feature 5 in {0.0,1.0})\n",
      "        Predict: 1.0\n",
      "       Else (feature 5 not in {0.0,1.0})\n",
      "        Predict: 0.0\n",
      "     Else (feature 3 > 0.0)\n",
      "      If (feature 5 in {0.0})\n",
      "       Predict: 0.0\n",
      "      Else (feature 5 not in {0.0})\n",
      "       If (feature 4 <= 13.0)\n",
      "        Predict: 1.0\n",
      "       Else (feature 4 > 13.0)\n",
      "        Predict: 0.0\n",
      "    Else (feature 4 > 14.5)\n",
      "     If (feature 2 <= 2.0)\n",
      "      If (feature 6 in {1.0})\n",
      "       If (feature 1 in {3.0})\n",
      "        Predict: 0.0\n",
      "       Else (feature 1 not in {3.0})\n",
      "        Predict: 1.0\n",
      "      Else (feature 6 not in {1.0})\n",
      "       If (feature 2 <= 0.0)\n",
      "        Predict: 1.0\n",
      "       Else (feature 2 > 0.0)\n",
      "        Predict: 1.0\n",
      "     Else (feature 2 > 2.0)\n",
      "      If (feature 2 <= 4.0)\n",
      "       If (feature 1 in {1.0,2.0})\n",
      "        Predict: 0.0\n",
      "       Else (feature 1 not in {1.0,2.0})\n",
      "        Predict: 0.0\n",
      "      Else (feature 2 > 4.0)\n",
      "       Predict: 0.0\n",
      "  Tree 5:\n",
      "    If (feature 0 in {1.0})\n",
      "     If (feature 4 <= 26.0)\n",
      "      If (feature 3 <= 0.0)\n",
      "       If (feature 5 in {0.0})\n",
      "        Predict: 0.0\n",
      "       Else (feature 5 not in {0.0})\n",
      "        Predict: 0.0\n",
      "      Else (feature 3 > 0.0)\n",
      "       If (feature 2 <= 1.0)\n",
      "        Predict: 0.0\n",
      "       Else (feature 2 > 1.0)\n",
      "        Predict: 0.0\n",
      "     Else (feature 4 > 26.0)\n",
      "      If (feature 1 in {2.0,3.0})\n",
      "       If (feature 2 <= 0.0)\n",
      "        Predict: 0.0\n",
      "       Else (feature 2 > 0.0)\n",
      "        Predict: 0.0\n",
      "      Else (feature 1 not in {2.0,3.0})\n",
      "       If (feature 4 <= 76.7292)\n",
      "        Predict: 1.0\n",
      "       Else (feature 4 > 76.7292)\n",
      "        Predict: 0.0\n",
      "    Else (feature 0 not in {1.0})\n",
      "     If (feature 2 <= 2.0)\n",
      "      If (feature 3 <= 3.0)\n",
      "       If (feature 4 <= 11.1333)\n",
      "        Predict: 0.0\n",
      "       Else (feature 4 > 11.1333)\n",
      "        Predict: 1.0\n",
      "      Else (feature 3 > 3.0)\n",
      "       Predict: 0.0\n",
      "     Else (feature 2 > 2.0)\n",
      "      If (feature 4 <= 15.9)\n",
      "       Predict: 1.0\n",
      "      Else (feature 4 > 15.9)\n",
      "       If (feature 3 <= 0.0)\n",
      "        Predict: 1.0\n",
      "       Else (feature 3 > 0.0)\n",
      "        Predict: 0.0\n",
      "  Tree 6:\n",
      "    If (feature 0 in {1.0})\n",
      "     If (feature 5 in {0.0})\n",
      "      Predict: 0.0\n",
      "     Else (feature 5 not in {0.0})\n",
      "      If (feature 4 <= 7.8958)\n",
      "       If (feature 4 <= 7.225)\n",
      "        Predict: 0.0\n",
      "       Else (feature 4 > 7.225)\n",
      "        Predict: 0.0\n",
      "      Else (feature 4 > 7.8958)\n",
      "       If (feature 2 <= 1.0)\n",
      "        Predict: 0.0\n",
      "       Else (feature 2 > 1.0)\n",
      "        Predict: 0.0\n",
      "    Else (feature 0 not in {1.0})\n",
      "     If (feature 1 in {3.0})\n",
      "      If (feature 3 <= 2.0)\n",
      "       If (feature 3 <= 1.0)\n",
      "        Predict: 1.0\n",
      "       Else (feature 3 > 1.0)\n",
      "        Predict: 0.0\n",
      "      Else (feature 3 > 2.0)\n",
      "       Predict: 0.0\n",
      "     Else (feature 1 not in {3.0})\n",
      "      If (feature 4 <= 146.5208)\n",
      "       If (feature 3 <= 0.0)\n",
      "        Predict: 1.0\n",
      "       Else (feature 3 > 0.0)\n",
      "        Predict: 1.0\n",
      "      Else (feature 4 > 146.5208)\n",
      "       If (feature 5 in {1.0})\n",
      "        Predict: 1.0\n",
      "       Else (feature 5 not in {1.0})\n",
      "        Predict: 1.0\n",
      "  Tree 7:\n",
      "    If (feature 0 in {1.0})\n",
      "     If (feature 4 <= 7.8958)\n",
      "      If (feature 5 in {0.0,2.0})\n",
      "       If (feature 4 <= 7.225)\n",
      "        Predict: 0.0\n",
      "       Else (feature 4 > 7.225)\n",
      "        Predict: 0.0\n",
      "      Else (feature 5 not in {0.0,2.0})\n",
      "       If (feature 4 <= 7.225)\n",
      "        Predict: 0.0\n",
      "       Else (feature 4 > 7.225)\n",
      "        Predict: 0.0\n",
      "     Else (feature 4 > 7.8958)\n",
      "      If (feature 4 <= 7.925)\n",
      "       Predict: 1.0\n",
      "      Else (feature 4 > 7.925)\n",
      "       If (feature 5 in {0.0})\n",
      "        Predict: 0.0\n",
      "       Else (feature 5 not in {0.0})\n",
      "        Predict: 0.0\n",
      "    Else (feature 0 not in {1.0})\n",
      "     If (feature 2 <= 4.0)\n",
      "      If (feature 1 in {1.0,2.0})\n",
      "       If (feature 5 in {0.0,1.0})\n",
      "        Predict: 1.0\n",
      "       Else (feature 5 not in {0.0,1.0})\n",
      "        Predict: 1.0\n",
      "      Else (feature 1 not in {1.0,2.0})\n",
      "       If (feature 2 <= 0.0)\n",
      "        Predict: 1.0\n",
      "       Else (feature 2 > 0.0)\n",
      "        Predict: 0.0\n",
      "     Else (feature 2 > 4.0)\n",
      "      Predict: 0.0\n",
      "  Tree 8:\n",
      "    If (feature 3 <= 0.0)\n",
      "     If (feature 1 in {2.0,3.0})\n",
      "      If (feature 0 in {1.0})\n",
      "       If (feature 5 in {0.0,1.0})\n",
      "        Predict: 0.0\n",
      "       Else (feature 5 not in {0.0,1.0})\n",
      "        Predict: 0.0\n",
      "      Else (feature 0 not in {1.0})\n",
      "       If (feature 1 in {2.0})\n",
      "        Predict: 1.0\n",
      "       Else (feature 1 not in {2.0})\n",
      "        Predict: 1.0\n",
      "     Else (feature 1 not in {2.0,3.0})\n",
      "      If (feature 0 in {1.0})\n",
      "       If (feature 2 <= 0.0)\n",
      "        Predict: 0.0\n",
      "       Else (feature 2 > 0.0)\n",
      "        Predict: 1.0\n",
      "      Else (feature 0 not in {1.0})\n",
      "       Predict: 1.0\n",
      "    Else (feature 3 > 0.0)\n",
      "     If (feature 1 in {1.0,3.0})\n",
      "      If (feature 4 <= 12.65)\n",
      "       If (feature 2 <= 0.0)\n",
      "        Predict: 1.0\n",
      "       Else (feature 2 > 0.0)\n",
      "        Predict: 1.0\n",
      "      Else (feature 4 > 12.65)\n",
      "       If (feature 4 <= 76.7292)\n",
      "        Predict: 0.0\n",
      "       Else (feature 4 > 76.7292)\n",
      "        Predict: 1.0\n",
      "     Else (feature 1 not in {1.0,3.0})\n",
      "      If (feature 0 in {1.0})\n",
      "       If (feature 4 <= 19.2583)\n",
      "        Predict: 1.0\n",
      "       Else (feature 4 > 19.2583)\n",
      "        Predict: 0.0\n",
      "      Else (feature 0 not in {1.0})\n",
      "       If (feature 4 <= 26.0)\n",
      "        Predict: 1.0\n",
      "       Else (feature 4 > 26.0)\n",
      "        Predict: 1.0\n",
      "  Tree 9:\n",
      "    If (feature 1 in {2.0,3.0})\n",
      "     If (feature 4 <= 10.1708)\n",
      "      If (feature 6 in {1.0})\n",
      "       If (feature 5 in {0.0})\n",
      "        Predict: 1.0\n",
      "       Else (feature 5 not in {0.0})\n",
      "        Predict: 1.0\n",
      "      Else (feature 6 not in {1.0})\n",
      "       If (feature 2 <= 2.0)\n",
      "        Predict: 0.0\n",
      "       Else (feature 2 > 2.0)\n",
      "        Predict: 1.0\n",
      "     Else (feature 4 > 10.1708)\n",
      "      If (feature 0 in {1.0})\n",
      "       If (feature 4 <= 30.0708)\n",
      "        Predict: 0.0\n",
      "       Else (feature 4 > 30.0708)\n",
      "        Predict: 0.0\n",
      "      Else (feature 0 not in {1.0})\n",
      "       If (feature 1 in {3.0})\n",
      "        Predict: 0.0\n",
      "       Else (feature 1 not in {3.0})\n",
      "        Predict: 1.0\n",
      "    Else (feature 1 not in {2.0,3.0})\n",
      "     If (feature 4 <= 52.5542)\n",
      "      If (feature 0 in {0.0})\n",
      "       If (feature 2 <= 0.0)\n",
      "        Predict: 1.0\n",
      "       Else (feature 2 > 0.0)\n",
      "        Predict: 1.0\n",
      "      Else (feature 0 not in {0.0})\n",
      "       If (feature 5 in {1.0})\n",
      "        Predict: 0.0\n",
      "       Else (feature 5 not in {1.0})\n",
      "        Predict: 0.0\n",
      "     Else (feature 4 > 52.5542)\n",
      "      If (feature 0 in {1.0})\n",
      "       If (feature 5 in {0.0})\n",
      "        Predict: 0.0\n",
      "       Else (feature 5 not in {0.0})\n",
      "        Predict: 0.0\n",
      "      Else (feature 0 not in {1.0})\n",
      "       If (feature 2 <= 0.0)\n",
      "        Predict: 1.0\n",
      "       Else (feature 2 > 0.0)\n",
      "        Predict: 1.0\n",
      "\n"
     ]
    }
   ],
   "source": [
    "def f(x):\n",
    "    (v, p) = x\n",
    "    if v != p:\n",
    "        return True\n",
    "    else:\n",
    "        return False\n",
    "# Evaluate model on test instances and compute test error\n",
    "predictions = model.predict(testData.map(lambda x: x.features))\n",
    "labelsAndPredictions = testData.map(lambda lp: lp.label).zip(predictions)\n",
    "testErr = labelsAndPredictions.filter(lambda x: f(x)).count() / float(testData.count())\n",
    "print('Test Error = ' + str(testErr))\n",
    "print('Learned classification forest model:')\n",
    "print(model.toDebugString())\n",
    "\n",
    "# Save and load model\n",
    "# model.save(sc, \"target/tmp/myRandomForestClassificationModel\")\n",
    "# sameModel = RandomForestModel.load(sc, \"target/tmp/myRandomForestClassificationModel\")"
   ]
  },
  {
   "cell_type": "code",
   "execution_count": 92,
   "metadata": {
    "collapsed": true
   },
   "outputs": [],
   "source": [
    "# sex change to person and add child type when age < 16"
   ]
  },
  {
   "cell_type": "code",
   "execution_count": null,
   "metadata": {
    "collapsed": true
   },
   "outputs": [],
   "source": [
    "# https://www.kaggle.com/omarelgabry/a-journey-through-titanic\n",
    "# drop(['PassengerId','Name','Ticket']\n",
    "# fill Embarked with S because S is the most seen value.\n",
    "# drop Embarked value is S\n",
    "# if Parch + SibSp > 0 : family = 1 else family = 0\n",
    "# As we see, children(age < ~16) on aboard seem to have a high chances for Survival.\n",
    "# So, we can classify passengers as males, females, and child\n",
    "# drop p-class 3"
   ]
  }
 ],
 "metadata": {
  "kernelspec": {
   "display_name": "Python 3",
   "language": "python",
   "name": "python3"
  },
  "language_info": {
   "codemirror_mode": {
    "name": "ipython",
    "version": 3
   },
   "file_extension": ".py",
   "mimetype": "text/x-python",
   "name": "python",
   "nbconvert_exporter": "python",
   "pygments_lexer": "ipython3",
   "version": "3.4.2"
  }
 },
 "nbformat": 4,
 "nbformat_minor": 1
}
