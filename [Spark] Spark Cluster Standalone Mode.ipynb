{
 "cells": [
  {
   "cell_type": "code",
   "execution_count": 1,
   "metadata": {
    "collapsed": false
   },
   "outputs": [
    {
     "name": "stdout",
     "output_type": "stream",
     "text": [
      "spark: /usr/local/spark\r\n"
     ]
    }
   ],
   "source": [
    "### spark command\n",
    "!sudo /usr/local/spark/sbin/start-master.sh"
   ]
  },
  {
   "cell_type": "markdown",
   "metadata": {
    "collapsed": false
   },
   "source": [
    "### Standalone Mode Cluster version 2.0.2\n",
    "* * *\n",
    "\n",
    "``` sh\n",
    "docker network create spark_network\n",
    "```\n",
    "\n",
    "##### Create Master\n",
    "``` sh\n",
    "docker run -it --net spark_network --name master -p 8080:8080 p7hb/docker-spark:2.0.2\n",
    "\n",
    "/usr/local/spark/sbin/start-master.sh\n",
    "```\n",
    "\n",
    "##### Create Worker\n",
    "``` sh\n",
    "docker run -it --net spark_network --name worker1 p7hb/docker-spark:2.0.2\n",
    "\n",
    "/usr/local/spark/sbin/start-slave.sh master:7077\n",
    "```"
   ]
  },
  {
   "cell_type": "markdown",
   "metadata": {},
   "source": [
    "##### Config Spark Env \n",
    "\n",
    "add the following into ./conf/spark-env.sh\n",
    "\n",
    "- export SPARK_MASTER_IP=master\n",
    "- export SPARK_MASTER_PORT=7077\n",
    "- export SPARK_WORKER_CORES=1\n",
    "- export SPARK_WORDER_INSTANCES=1\n",
    "- export SPARK_WORKER_MEMORY=3g"
   ]
  },
  {
   "cell_type": "markdown",
   "metadata": {},
   "source": [
    "##### Add Slaves \n",
    "\n",
    "Update conf/slaves\n",
    "\n",
    "- localhost\n",
    "- worker1"
   ]
  },
  {
   "cell_type": "markdown",
   "metadata": {},
   "source": [
    "##### Run Example\n",
    "\n",
    "``` sh\n",
    "./bin/spark-submit --class org.apache.spark.examples.SparkPi --master spark://master:7077 $SPARK_HOME/examples/src/main/python/pi.py 10\n",
    "```"
   ]
  },
  {
   "cell_type": "markdown",
   "metadata": {},
   "source": [
    "##### Another way\n",
    "\n",
    "``` sh\n",
    "sbin/start-all.sh\n",
    "```\n",
    "\n",
    "and use \n",
    "``` sh\n",
    "netstat -nat\n",
    "```\n",
    "\n",
    "monitor port 7077 process"
   ]
  },
  {
   "cell_type": "markdown",
   "metadata": {},
   "source": [
    "##### Import Required Lib\n",
    "\n",
    "add /usr/local/spark/python/lib/py4j-0.10.3-src.zip to sys.path"
   ]
  },
  {
   "cell_type": "code",
   "execution_count": null,
   "metadata": {
    "collapsed": false
   },
   "outputs": [],
   "source": [
    "import os\n",
    "# make sure pyspark tells workers to use python3 not 2 if both are installed\n",
    "# os.environ['PYSPARK_PYTHON'] = '/usr/bin/python3'\n",
    "\n",
    "import pyspark\n",
    "conf = pyspark.SparkConf()\n",
    "\n",
    "conf.setMaster(\"spark://master:7077\")\n",
    "# conf.set(\"spark.executor.memory\", \"4g\")\n",
    "# conf.set(\"spark.core.connection.ack.wait.timeout\", \"1200\")\n",
    "conf.setAppName(\"My App\")\n",
    "\n",
    "# create the context\n",
    "sc = pyspark.SparkContext(conf=conf)"
   ]
  },
  {
   "cell_type": "markdown",
   "metadata": {
    "collapsed": true
   },
   "source": [
    "##### mesos master\n",
    "\n",
    "``` sh\n",
    "docker run -d --net spark_network --name master --user root -e GRANT_SUDO=yes -p 5050:5050 jupyter/all-spark-notebook:latest\n",
    "\n",
    "mesos-master --work_dir=/var/lib/mesos/\n",
    "```\n",
    "\n",
    "##### mesos slave\n",
    "\n",
    "``` sh\n",
    "docker run -d --name=slave2 --net spark_network -e GRANT_SUDO=yes --user root jupyter/all-spark-notebook\n",
    "\n",
    "mesos-slave --master=master:5050 --work_dir=/var/lib/mesos/\n",
    "```"
   ]
  },
  {
   "cell_type": "code",
   "execution_count": 14,
   "metadata": {
    "collapsed": false,
    "scrolled": true
   },
   "outputs": [
    {
     "name": "stdout",
     "output_type": "stream",
     "text": [
      "\r\n"
     ]
    }
   ],
   "source": [
    "!echo $PYSPARK_PYTHON"
   ]
  }
 ],
 "metadata": {
  "kernelspec": {
   "display_name": "Python 3",
   "language": "python",
   "name": "python3"
  },
  "language_info": {
   "codemirror_mode": {
    "name": "ipython",
    "version": 3
   },
   "file_extension": ".py",
   "mimetype": "text/x-python",
   "name": "python",
   "nbconvert_exporter": "python",
   "pygments_lexer": "ipython3",
   "version": "3.5.2"
  }
 },
 "nbformat": 4,
 "nbformat_minor": 1
}
