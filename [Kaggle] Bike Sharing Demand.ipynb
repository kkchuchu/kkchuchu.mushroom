{
 "cells": [
  {
   "cell_type": "markdown",
   "metadata": {},
   "source": [
    "![kaggle bike sharing demand logo](./images/bike.png)"
   ]
  },
  {
   "cell_type": "markdown",
   "metadata": {},
   "source": [
    "<center> \n",
    "### Bike Sharing Demand"
   ]
  },
  {
   "cell_type": "markdown",
   "metadata": {},
   "source": [
    "### Data Fields\n",
    "\n",
    "- datetime - hourly date + timestamp  \n",
    "- season -  1 = spring, 2 = summer, 3 = fall, 4 = winter \n",
    "- holiday - whether the day is considered a holiday\n",
    "- workingday - whether the day is neither a weekend nor holiday\n",
    "- weather \n",
    "    - 1: Clear, Few clouds, Partly cloudy, Partly cloudy \n",
    "    - 2: Mist + Cloudy, Mist + Broken clouds, Mist + Few clouds, Mist \n",
    "    - 3: Light Snow, Light Rain + Thunderstorm + Scattered clouds, Light Rain + Scattered clouds \n",
    "    - 4: Heavy Rain + Ice Pallets + Thunderstorm + Mist, Snow + Fog \n",
    "- temp - temperature in Celsius\n",
    "- atemp - \"feels like\" temperature in Celsius\n",
    "- humidity - relative humidity\n",
    "- windspeed - wind speed\n",
    "- casual - number of non-registered user rentals initiated\n",
    "- registered - number of registered user rentals initiated\n",
    "- count - number of total rentals"
   ]
  },
  {
   "cell_type": "markdown",
   "metadata": {},
   "source": [
    "### Decision Tree Regressor - Use [scikit](http://scikit-learn.org/stable/modules/generated/sklearn.tree.DecisionTreeRegressor.html#sklearn.tree.DecisionTreeRegressor)"
   ]
  },
  {
   "cell_type": "markdown",
   "metadata": {},
   "source": [
    "### Cross Validation - Avoiding [Overfitting](http://scikit-learn.org/stable/modules/cross_validation.html)."
   ]
  },
  {
   "cell_type": "markdown",
   "metadata": {},
   "source": [
    "### Ensemble Learning - Random forest\n",
    "- [link](https://docs.google.com/viewerng/viewer?url=http://www.cmlab.csie.ntu.edu.tw/~cyy/learning/tutorials/EnsembleLearning.pdf)\n",
    "- [wiki](https://en.wikipedia.org/wiki/Random_forest)\n",
    "- [scikit](http://scikit-learn.org/stable/modules/generated/sklearn.ensemble.RandomForestRegressor.html#sklearn.ensemble.RandomForestRegressor)\n",
    "- [more doc](http://hhtucode.blogspot.tw/2013/06/ml-random-forest.html)"
   ]
  },
  {
   "cell_type": "markdown",
   "metadata": {},
   "source": [
    "### The Criteria - Root Mean Squared Logarithmic Error - - [kaggle forum](https://www.kaggle.com/wiki/RootMeanSquaredLogarithmicError)"
   ]
  },
  {
   "cell_type": "markdown",
   "metadata": {},
   "source": [
    "### Pearson correlation\n",
    " - Example : [link](http://stackoverflow.com/questions/3949226/calculating-pearson-correlation-and-significance-in-python)\n",
    " - scipy lib : [link](http://docs.scipy.org/doc/scipy/reference/stats.html)"
   ]
  },
  {
   "cell_type": "code",
   "execution_count": 1,
   "metadata": {
    "collapsed": false
   },
   "outputs": [],
   "source": [
    "# pandas api : http://pandas.pydata.org/pandas-docs/stable/\n",
    "import pandas as pd\n",
    "import matplotlib.pyplot as plt\n",
    "# seaborn tutorial : https://stanford.edu/~mwaskom/software/seaborn/tutorial.html\n",
    "import seaborn as sns\n",
    "from pydoc import help\n",
    "import scipy\n",
    "import numpy as np\n",
    "\n",
    "# help(scipy.stats.stats.pearsonr)\n",
    "# pearsonr example\n",
    "# scipy.stats.stats.pearsonr(d[['windspeed']], d[['count']])"
   ]
  },
  {
   "cell_type": "code",
   "execution_count": 2,
   "metadata": {
    "collapsed": true
   },
   "outputs": [],
   "source": [
    "def draw_corr_heatmap(raw_dataframe):\n",
    "  # dataframe support method\n",
    "  corr = raw_dataframe.corr()\n",
    "\n",
    "  # Generate a mask for the upper triangle\n",
    "  mask = np.zeros_like(corr, dtype=np.bool)\n",
    "  mask[np.triu_indices_from(mask)] = True\n",
    "\n",
    "  # Set up the matplotlib figure\n",
    "  f, ax = plt.subplots(figsize=(11, 9))\n",
    "\n",
    "  # Generate a custom diverging colormap\n",
    "  cmap = sns.diverging_palette(220, 10, as_cmap=True)\n",
    "\n",
    "  # Draw the heatmap with the mask and correct aspect ratio\n",
    "  sns.heatmap(corr, mask=mask, cmap=cmap, square=True, )"
   ]
  },
  {
   "cell_type": "markdown",
   "metadata": {},
   "source": [
    "### Break Datetime into Date and Time Columns"
   ]
  },
  {
   "cell_type": "code",
   "execution_count": 3,
   "metadata": {
    "collapsed": false
   },
   "outputs": [
    {
     "data": {
      "image/png": "[encoded data removed]",
      "text/plain": [
       "<matplotlib.figure.Figure at 0x7f07a597d250>"
      ]
     },
     "metadata": {},
     "output_type": "display_data"
    }
   ],
   "source": [
    "with open('set/bsd/train.csv') as f:\n",
    "  X = pd.read_csv(f)\n",
    "X['date'] = X['datetime'].str.extract('(....-..-..)', expand= False)\n",
    "X['date'] = X['date'].str.replace(pat= '....-..', repl= '')\n",
    "X['time'] = X['datetime'].str.extract('(..:..:..)', expand= False)\n",
    "X['time'] = X['time'].str.replace(pat= ':..:..', repl = '')\n",
    "X['time'] = X['time'].apply(lambda x: int(x))\n",
    "\n",
    "draw_corr_heatmap(X)"
   ]
  },
  {
   "cell_type": "code",
   "execution_count": 4,
   "metadata": {
    "collapsed": false
   },
   "outputs": [],
   "source": [
    "with open(''set/bsd/test.csv') as f:\n",
    "  T = pd.read_csv(f)\n",
    "  \n",
    "T['date'] = T['datetime'].str.extract('(....-..-..)', expand= False)\n",
    "T['date'] = T['date'].str.replace(pat= '....-..', repl= '')\n",
    "T['time'] = T['datetime'].str.extract('(..:..:..)', expand= False)\n",
    "T['time'] = T['time'].str.replace(pat= ':..:..', repl= '')"
   ]
  },
  {
   "cell_type": "code",
   "execution_count": 5,
   "metadata": {
    "collapsed": false
   },
   "outputs": [
    {
     "data": {
      "text/plain": [
       "array([  11.,    5.,    8., ...,   66.,  102.,   28.])"
      ]
     },
     "execution_count": 5,
     "metadata": {},
     "output_type": "execute_result"
    }
   ],
   "source": [
    "import sklearn.tree\n",
    "xcolumns = [u'season', u'holiday', u'workingday', u'weather', u'temp', \n",
    "           u'atemp', u'humidity', u'windspeed',  u'date', u'time']\n",
    "map(lambda c: X[c].apply(lambda x: float(x)), xcolumns + ['count'])\n",
    "regressor = sklearn.tree.DecisionTreeRegressor(random_state = 0)\n",
    "regressor.fit(X[xcolumns], X[['count']])\n",
    "result = regressor.predict(T[xcolumns])\n",
    "result"
   ]
  },
  {
   "cell_type": "code",
   "execution_count": 6,
   "metadata": {
    "collapsed": true
   },
   "outputs": [],
   "source": [
    "def Parallel( ncpu, func, subfuncs, packages, inputs):\n",
    "    import pp\n",
    "    import time\n",
    "    ppservers = ()\n",
    "    ncpus = ncpu\n",
    "    job_server = pp.Server(ncpus = ncpus, ppservers = ppservers)\n",
    "    print str.format('Start pp with {} works.', job_server.get_ncpus())\n",
    "\n",
    "    start_time = time.time()\n",
    "\n",
    "    jobs = [(input, job_server.submit(func, (input,), subfuncs, packages)) for input in inputs]\n",
    "\n",
    "    for input, job in jobs:\n",
    "      print str.format('func({}) is {}', input, job())\n",
    "      print str.format('Time eclapsed is {} s', time.time() - start_time)"
   ]
  },
  {
   "cell_type": "markdown",
   "metadata": {},
   "source": [
    "### Some Issues\n",
    "\n",
    "- Predict casual and registered separately.\n",
    "- Limit the depth of regression tree."
   ]
  },
  {
   "cell_type": "markdown",
   "metadata": {},
   "source": [
    "### Reference\n",
    "\n",
    "- Kaggle Link [link](https://www.kaggle.com/c/bike-sharing-demand)\n",
    "- ctree: Conditional Inference Trees [link](https://docs.google.com/viewerng/viewer?url=http://cran.r-project.org/web/packages/partykit/vignettes/ctree.pdf)\n",
    "- Unbiased Recursive Partitioning: A Conditional Inference Framework [link](https://drive.google.com/viewerng/viewer?url=http://statmath.wu-wien.ac.at/~zeileis/papers/Hothorn%2BHornik%2BZeileis-2006.pdf)"
   ]
  }
 ],
 "metadata": {
  "kernelspec": {
   "display_name": "Python 2",
   "language": "python",
   "name": "python2"
  },
  "language_info": {
   "codemirror_mode": {
    "name": "ipython",
    "version": 2
   },
   "file_extension": ".py",
   "mimetype": "text/x-python",
   "name": "python",
   "nbconvert_exporter": "python",
   "pygments_lexer": "ipython2",
   "version": "2.7.12"
  }
 },
 "nbformat": 4,
 "nbformat_minor": 0
}
