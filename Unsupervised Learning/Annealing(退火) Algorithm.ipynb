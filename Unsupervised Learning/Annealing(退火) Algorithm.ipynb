{
 "cells": [
  {
   "cell_type": "markdown",
   "metadata": {},
   "source": [
    "### Annealing Algorithm\n",
    "For a finite set of iterations:\n",
    "1. Sample new point $x_t$ in $ N(x) $(neighborhood)\n",
    "2. Jump to new point $x_t$ in $ N(x) $ with probability given by an acceptance probability function $P(x, x_t, T)$\n",
    "3. Decrease Temperature T > 0,\n",
    "\n",
    "$$\n",
    "P(x, x_t, T) = \n",
    "  \\begin{cases} \n",
    "    1                      & \\text{if } f(x_t) \\geq f(x) \\text{,hill climbing} \\\\ \n",
    "    e^{(f(x_t) - f(x))/T}  & \\text{otherwise}\n",
    "  \\end{cases}\n",
    "$$\n",
    "\n",
    "\n",
    "### Properties of Simulated Annealing\n",
    "$ T -> 0 $ like hill climbing\n",
    "\n",
    "$ T -> \\infty $ random walk\n",
    "\n",
    "Decrease T slowly\n",
    "\n",
    "$$ Pr(\\text{ending at x}) = \\frac{e^\\frac{f(x)}{T}}{Z_T}$$\n",
    "\n",
    "Z is normal distribution\n",
    "\n",
    "$ Pr(\\text{ending at x}) $ be Boltzmann distribution"
   ]
  },
  {
   "cell_type": "code",
   "execution_count": null,
   "metadata": {
    "collapsed": true
   },
   "outputs": [],
   "source": []
  }
 ],
 "metadata": {
  "kernelspec": {
   "display_name": "Python 3",
   "language": "python",
   "name": "python3"
  },
  "language_info": {
   "codemirror_mode": {
    "name": "ipython",
    "version": 3
   },
   "file_extension": ".py",
   "mimetype": "text/x-python",
   "name": "python",
   "nbconvert_exporter": "python",
   "pygments_lexer": "ipython3",
   "version": "3.4.2"
  }
 },
 "nbformat": 4,
 "nbformat_minor": 2
}
