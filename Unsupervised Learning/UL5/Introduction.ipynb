{
 "cells": [
  {
   "cell_type": "markdown",
   "metadata": {},
   "source": [
    "### INFORMATION THEORY\n",
    "\n",
    "- Question:\n",
    "    - are these input vectors similar?\n",
    "        - mutual information\n",
    "    - does this feature have any information?\n",
    "        - Entropy\n",
    "        \n",
    "### Entropy\n",
    "\n",
    "min number of yes|no question\n",
    "\n",
    "$\n",
    "\\sum Pr(s) *  number of (s)\n",
    "$\n",
    "\n",
    "#### Joint Entropy\n",
    "\n",
    "$\n",
    "H(X, Y) = - \\sum P(X, Y) logPr(X, Y)\n",
    "$\n",
    "\n",
    "#### Conditional Entropy\n",
    "\n",
    "$\n",
    "H(Y|X) = - \\sum Pr(X, Y) logP(Y|X)\n",
    "$\n",
    "\n",
    "#### Mutual Information\n",
    "\n",
    "- Two variables dependency.\n",
    "- Example: New york and Albert.\n",
    "\n",
    "\n",
    "$\n",
    "I(x, y) = H(y) - H(x|y)\n",
    "$\n",
    "\n",
    "#### Reference \n",
    "\n",
    "- [udacity](https://classroom.udacity.com/courses/ud741/lessons/672178843/concepts/6536691800923)\n",
    "\n",
    "- [mutual info]\n",
    "(http://cpmarkchang.logdown.com/posts/195584-natural-language-processing-pointwise-mutual-information)"
   ]
  },
  {
   "cell_type": "markdown",
   "metadata": {},
   "source": [
    "### Kullback-Leibler Divergence(KL Divergence)\n",
    "\n",
    "- Relative Entropy\n",
    "$$\n",
    "D(p||q) = \\int p(x) log\\frac{P(x)}{q(x)}\n",
    "$$\n",
    "- 兩個分佈差異有多大"
   ]
  },
  {
   "cell_type": "markdown",
   "metadata": {},
   "source": [
    "### Maximum Likelihood Estimate\n",
    "- 用觀察到的值預測原本的模型\n",
    "\n",
    "#### Reference\n",
    "- http://statweb.stanford.edu/~susan/courses/s200/lectures/lect11.pdf\n"
   ]
  },
  {
   "cell_type": "code",
   "execution_count": null,
   "metadata": {
    "collapsed": true
   },
   "outputs": [],
   "source": []
  }
 ],
 "metadata": {
  "kernelspec": {
   "display_name": "Python 2",
   "language": "python",
   "name": "python2"
  },
  "language_info": {
   "codemirror_mode": {
    "name": "ipython",
    "version": 2
   },
   "file_extension": ".py",
   "mimetype": "text/x-python",
   "name": "python",
   "nbconvert_exporter": "python",
   "pygments_lexer": "ipython2",
   "version": "2.7.13"
  }
 },
 "nbformat": 4,
 "nbformat_minor": 2
}
