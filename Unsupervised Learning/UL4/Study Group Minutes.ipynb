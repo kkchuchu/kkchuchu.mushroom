{
 "cells": [
  {
   "cell_type": "markdown",
   "metadata": {},
   "source": [
    "## Feature Transform\n",
    "\n",
    "$$\n",
    "x \\in R\n",
    "$$\n",
    "\n",
    "### LDA\n",
    "\n",
    "\n",
    "### PCA\n",
    "    1. unsupervised\n",
    "    2. maximum variance\n",
    "    3. global(covariance)\n",
    "    \n",
    "$$\n",
    "(x_1, x_2, x_3) to (x_1^, x_2^1 )\n",
    "$$\n",
    "    \n",
    "### ICA\n",
    "    1. unsupervised\n",
    "    2. independent\n",
    "    3. mutual information = 0\n",
    "    \n",
    "### RCA\n",
    "    1. unsupervised\n",
    "\n",
    "### LDA\n",
    "    1. supervised"
   ]
  },
  {
   "cell_type": "code",
   "execution_count": null,
   "metadata": {
    "collapsed": true
   },
   "outputs": [],
   "source": []
  }
 ],
 "metadata": {
  "kernelspec": {
   "display_name": "Python 2",
   "language": "python",
   "name": "python2"
  },
  "language_info": {
   "codemirror_mode": {
    "name": "ipython",
    "version": 2
   },
   "file_extension": ".py",
   "mimetype": "text/x-python",
   "name": "python",
   "nbconvert_exporter": "python",
   "pygments_lexer": "ipython2",
   "version": "2.7.13"
  }
 },
 "nbformat": 4,
 "nbformat_minor": 2
}
