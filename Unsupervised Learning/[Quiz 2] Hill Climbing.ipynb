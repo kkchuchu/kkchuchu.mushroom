{
 "cells": [
  {
   "cell_type": "markdown",
   "metadata": {},
   "source": [
    "### Guess My Word\n",
    "Thinking of a 5-bit sequence\n",
    "\n",
    "$f(x)$ = # correct bits"
   ]
  },
  {
   "cell_type": "code",
   "execution_count": 16,
   "metadata": {
    "collapsed": true
   },
   "outputs": [],
   "source": [
    "target = [1, 0, 1, 1, 0]"
   ]
  },
  {
   "cell_type": "code",
   "execution_count": 14,
   "metadata": {
    "collapsed": true
   },
   "outputs": [],
   "source": [
    "def f(x):\n",
    "    if len(x) != len(target):\n",
    "        raise Exception()\n",
    "    return sum([1 for i, j in zip(x, target) if i == j])\n",
    "        "
   ]
  },
  {
   "cell_type": "code",
   "execution_count": 17,
   "metadata": {},
   "outputs": [
    {
     "data": {
      "text/plain": [
       "2"
      ]
     },
     "execution_count": 17,
     "metadata": {},
     "output_type": "execute_result"
    }
   ],
   "source": [
    "f([0, 0, 0, 0 ,0])"
   ]
  },
  {
   "cell_type": "markdown",
   "metadata": {},
   "source": [
    "\n",
    "### Hill Cimbing Pesudo Code\n",
    "\n",
    "Guess $ x \\in X $\n",
    "\n",
    "Repeat:\n",
    "\n",
    "- let $ n* = argmax_{n \\in N(x)} f(n) $, N is the neighborhood function\n",
    "    \n",
    "- if f(n) > f(x): x=n\n",
    "\n",
    "- else: stop"
   ]
  },
  {
   "cell_type": "markdown",
   "metadata": {},
   "source": [
    "Hill Climbing may be stuck by local optimize \n",
    "\n",
    "So we need \n",
    "### Random Restart Hill Climbing\n",
    "\n",
    "Algorithm principle: \n",
    "\n",
    "Once local optimum reached, try again start from a random chosen x."
   ]
  }
 ],
 "metadata": {
  "kernelspec": {
   "display_name": "Python 3",
   "language": "python",
   "name": "python3"
  },
  "language_info": {
   "codemirror_mode": {
    "name": "ipython",
    "version": 3
   },
   "file_extension": ".py",
   "mimetype": "text/x-python",
   "name": "python",
   "nbconvert_exporter": "python",
   "pygments_lexer": "ipython3",
   "version": "3.4.2"
  }
 },
 "nbformat": 4,
 "nbformat_minor": 2
}
