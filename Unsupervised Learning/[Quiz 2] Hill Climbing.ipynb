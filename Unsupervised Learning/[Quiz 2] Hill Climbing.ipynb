{
 "cells": [
  {
   "cell_type": "markdown",
   "metadata": {},
   "source": [
    "### Guess My Word\n",
    "Thinking of a 5-bit sequence\n",
    "\n",
    "$f(x)$ = # correct bits"
   ]
  },
  {
   "cell_type": "code",
   "execution_count": 16,
   "metadata": {
    "collapsed": true
   },
   "outputs": [],
   "source": [
    "target = [1, 0, 1, 1, 0]"
   ]
  },
  {
   "cell_type": "code",
   "execution_count": 14,
   "metadata": {
    "collapsed": true
   },
   "outputs": [],
   "source": [
    "def f(x):\n",
    "    if len(x) != len(target):\n",
    "        raise Exception()\n",
    "    return sum([1 for i, j in zip(x, target) if i == j])"
   ]
  },
  {
   "cell_type": "code",
   "execution_count": 17,
   "metadata": {},
   "outputs": [
    {
     "data": {
      "text/plain": [
       "2"
      ]
     },
     "execution_count": 17,
     "metadata": {},
     "output_type": "execute_result"
    }
   ],
   "source": [
    "f([0, 0, 0, 0 ,0])"
   ]
  },
  {
   "cell_type": "markdown",
   "metadata": {},
   "source": [
    "\n",
    "### Hill Cimbing Pesudo Code\n",
    "\n",
    "Guess $ x \\in X $\n",
    "\n",
    "Repeat:\n",
    "\n",
    "- let $ n* = argmax_{n \\in N(x)} f(n) $, N is the neighborhood function\n",
    "    \n",
    "- if f(n) > f(x): x=n\n",
    "\n",
    "- else: stop"
   ]
  },
  {
   "cell_type": "markdown",
   "metadata": {},
   "source": [
    "Hill Climbing may be stuck by local optimize \n",
    "\n",
    "So we need \n",
    "### Random Restart Hill Climbing\n",
    "\n",
    "Algorithm principle: \n",
    "\n",
    "Once local optimum reached, try again start from a random chosen x."
   ]
  },
  {
   "cell_type": "code",
   "execution_count": 2,
   "metadata": {},
   "outputs": [
    {
     "ename": "SyntaxError",
     "evalue": "unexpected EOF while parsing (<ipython-input-2-9838427930e8>, line 4)",
     "output_type": "error",
     "traceback": [
      "\u001b[0;36m  File \u001b[0;32m\"<ipython-input-2-9838427930e8>\"\u001b[0;36m, line \u001b[0;32m4\u001b[0m\n\u001b[0;31m    \u001b[0m\n\u001b[0m    ^\u001b[0m\n\u001b[0;31mSyntaxError\u001b[0m\u001b[0;31m:\u001b[0m unexpected EOF while parsing\n"
     ]
    }
   ],
   "source": [
    "TARGET = 5, MAX_COUNT = 1000\n",
    "result = 0, counter = 0\n",
    "def find_neighbor(pos):\n",
    "    tmp = []\n",
    "    for i in enumerate(pos):\n",
    "        if i == 0:\n",
    "            \n",
    "while (result != 5 and counter < 1000):\n",
    "    "
   ]
  },
  {
   "cell_type": "code",
   "execution_count": null,
   "metadata": {
    "collapsed": true
   },
   "outputs": [],
   "source": []
  }
 ],
 "metadata": {
  "kernelspec": {
   "display_name": "Python 3",
   "language": "python",
   "name": "python3"
  },
  "language_info": {
   "codemirror_mode": {
    "name": "ipython",
    "version": 3
   },
   "file_extension": ".py",
   "mimetype": "text/x-python",
   "name": "python",
   "nbconvert_exporter": "python",
   "pygments_lexer": "ipython3",
   "version": "3.4.2"
  }
 },
 "nbformat": 4,
 "nbformat_minor": 2
}
