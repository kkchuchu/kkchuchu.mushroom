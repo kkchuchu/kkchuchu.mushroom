{
 "cells": [
  {
   "cell_type": "markdown",
   "metadata": {},
   "source": [
    "<center>\n",
    "# Git Development Model"
   ]
  },
  {
   "cell_type": "markdown",
   "metadata": {},
   "source": [
    "<center>\n",
    "<h2> Local Operations\n",
    "</center>\n",
    "\n",
    "``` bash\n",
    "\n",
    "git clone center-repository\n",
    "\n",
    "# Work hard\n",
    "\n",
    "git status\n",
    "\n",
    "git add .\n",
    "\n",
    "git commit -m \"commit log\"\n",
    "\n",
    "```"
   ]
  },
  {
   "cell_type": "markdown",
   "metadata": {},
   "source": [
    "<center>\n",
    "![local operations](images/local_operations.png)\n",
    "</center>"
   ]
  },
  {
   "cell_type": "markdown",
   "metadata": {},
   "source": [
    "### Commit\n",
    "\n",
    "- Runnable Code."
   ]
  },
  {
   "cell_type": "markdown",
   "metadata": {},
   "source": [
    "<center>\n",
    "### Development Model"
   ]
  },
  {
   "cell_type": "markdown",
   "metadata": {},
   "source": [
    "<center>\n",
    "### Branch\n",
    "</center>\n",
    "- An independent line of development"
   ]
  },
  {
   "cell_type": "markdown",
   "metadata": {},
   "source": [
    "<center>\n",
    "<img src='http://nvie.com/img/git-model@2x.png' height=100 />\n",
    "</center>"
   ]
  },
  {
   "cell_type": "markdown",
   "metadata": {},
   "source": [
    "### Develop Review\n",
    "<center>\n",
    "![develop flow](images/develop flow.png)\n",
    "</center>"
   ]
  },
  {
   "cell_type": "markdown",
   "metadata": {},
   "source": [
    "### Main Branches\n",
    "\n",
    "- master\n",
    "\n",
    "- develop\n"
   ]
  },
  {
   "cell_type": "markdown",
   "metadata": {},
   "source": [
    "### Supporting branches\n",
    "- feature-*\n",
    "- bug-*\n",
    "- release-* (pre-release update version etc.)\n",
    "- hotfix-*"
   ]
  },
  {
   "cell_type": "markdown",
   "metadata": {},
   "source": [
    "### Cooperation\n",
    "\n",
    "``` bash\n",
    "\n",
    "git fetch origin develop\n",
    "git merge origin/develop develop\n",
    "git rebase develop\n",
    "git push origin\n",
    "\n",
    "```"
   ]
  },
  {
   "cell_type": "markdown",
   "metadata": {},
   "source": [
    "### Fetch Remote Branch\n",
    "<center>\n",
    "![git fetch](images/git fetch.png)\n",
    "</center>"
   ]
  },
  {
   "cell_type": "markdown",
   "metadata": {},
   "source": [
    "### Sync Develop Branch in Local\n",
    "<center>\n",
    "![git merge](images/git merge.png)\n",
    "</center>"
   ]
  },
  {
   "cell_type": "markdown",
   "metadata": {},
   "source": [
    "### Update My Local Branch\n",
    "<center>\n",
    "![git rebase](images/git rebase.png)\n",
    "</center>"
   ]
  },
  {
   "cell_type": "markdown",
   "metadata": {},
   "source": [
    "### Update Remote My Branch\n",
    "\n",
    "``` bash\n",
    "\n",
    "git push remote-repo my-branch\n",
    "\n",
    "```"
   ]
  },
  {
   "cell_type": "markdown",
   "metadata": {},
   "source": [
    "### Merge Request\n",
    "<center>\n",
    "![merge request](images/merge request.png)\n",
    "</center>"
   ]
  },
  {
   "cell_type": "markdown",
   "metadata": {},
   "source": [
    "### What I Need To Do Before Really Merge\n",
    "\n",
    "- Find someone review my code.\n",
    "- Test Report (ci report, etc.)"
   ]
  },
  {
   "cell_type": "markdown",
   "metadata": {},
   "source": [
    "### Merge Succeeded\n",
    "\n",
    "- Now everyone can get my code by pull develop branch."
   ]
  },
  {
   "cell_type": "markdown",
   "metadata": {},
   "source": [
    "### Reference\n",
    "\n",
    "- http://nvie.com/posts/a-successful-git-branching-model/ development model\n",
    "- http://www.slideshare.net/rueian3/git-keynote\n",
    "- http://flc.ren/tag/git"
   ]
  },
  {
   "cell_type": "code",
   "execution_count": null,
   "metadata": {
    "collapsed": true
   },
   "outputs": [],
   "source": []
  }
 ],
 "metadata": {
  "kernelspec": {
   "display_name": "Python 2",
   "language": "python",
   "name": "python2"
  },
  "language_info": {
   "codemirror_mode": {
    "name": "ipython",
    "version": 2
   },
   "file_extension": ".py",
   "mimetype": "text/x-python",
   "name": "python",
   "nbconvert_exporter": "python",
   "pygments_lexer": "ipython2",
   "version": "2.7.9"
  }
 },
 "nbformat": 4,
 "nbformat_minor": 0
}
